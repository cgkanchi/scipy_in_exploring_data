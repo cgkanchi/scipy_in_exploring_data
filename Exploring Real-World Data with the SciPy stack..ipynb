{
 "metadata": {
  "name": "",
  "signature": "sha256:b6d018a156e654556a34a300768340a34237cdd12102b91b8236b6558cd14e6d"
 },
 "nbformat": 3,
 "nbformat_minor": 0,
 "worksheets": [
  {
   "cells": [
    {
     "cell_type": "heading",
     "level": 1,
     "metadata": {},
     "source": [
      "Processing Real-World Data with the SciPy stack."
     ]
    },
    {
     "cell_type": "heading",
     "level": 2,
     "metadata": {},
     "source": [
      "Table of Contents"
     ]
    },
    {
     "cell_type": "markdown",
     "metadata": {},
     "source": [
      "- [Introduction](#Introduction)\n",
      "    - [Requirements](#Requirements)\n",
      "        - [Windows and Mac OS X](#Windows-and-Mac-OS-X)\n",
      "        - [Linux or other *NIX](#Linux/Other-*NIX)\n",
      "    - [Downloading the data](#Downloading-the-data)\n",
      "    \n",
      "- [Loading Data into Python](#Loading-Data)\n",
      "    - [Using the read_* methods from Pandas](#Using-the-read_*-methods-from-Pandas)\n",
      "    - [Didn't work, why?](#Didn't-work,-why?)\n",
      "    - [Still doesn't work?!](#Still-doesn't-work?!)"
     ]
    },
    {
     "cell_type": "heading",
     "level": 2,
     "metadata": {},
     "source": [
      "Introduction"
     ]
    },
    {
     "cell_type": "markdown",
     "metadata": {},
     "source": [
      "When people get started with scientific programming and data science, API examples and library documentation usually use very simple or pseudorandom data. While this is very useful to demonstrate individual APIs, it doesn't reflect the true workflow of a data scientist. Real-world data is almost invariably imperfect, with missing values, horrible data formats and other issues, which make analysis difficult.\n",
      "\n",
      "What follows is an attempt to use real-world engineering data from the world of motorsport to illustrate how a data scientist may go about dealing with data handed to him/her, including some common pitfalls."
     ]
    },
    {
     "cell_type": "heading",
     "level": 3,
     "metadata": {},
     "source": [
      "Requirements"
     ]
    },
    {
     "cell_type": "markdown",
     "metadata": {},
     "source": [
      "- Python 2.7.x\n",
      "- IPython\n",
      "- Numpy\n",
      "- Scipy\n",
      "- Matplotlib\n",
      "- Pandas \n",
      "- Seaborn\n",
      "- Matplotlib Basemap\n",
      "- Requests [optional, only required to redownload data]"
     ]
    },
    {
     "cell_type": "heading",
     "level": 4,
     "metadata": {},
     "source": [
      "Windows and Mac OS X"
     ]
    },
    {
     "cell_type": "markdown",
     "metadata": {},
     "source": [
      "For Windows and OS X users, the easiest way to get all these dependencies is to install a pre-packaged Python distribution that includes most of these packages. Continuum's Anaconda is a good choice for non-production work.\n",
      "\n",
      "#####Continuum Anaconda - https://store.continuum.io/cshop/anaconda/\n",
      "\n",
      "- Install Anaconda using the graphical installer\n",
      "- At the command prompt/terminal: `conda install basemap seaborn` "
     ]
    },
    {
     "cell_type": "heading",
     "level": 4,
     "metadata": {},
     "source": [
      "Linux/Other *NIX"
     ]
    },
    {
     "cell_type": "markdown",
     "metadata": {},
     "source": [
      "Use your package manager or pip to get the requisite packages.\n",
      "\n",
      "On Ubuntu or other Debian-based systems, you can\n",
      "\n",
      "    $ sudo apt-get install python-numpy python-scipy python-matplotlib python-pip python-mpltoolkits.basemap python \\\n",
      "    && sudo pip install seaborn"
     ]
    },
    {
     "cell_type": "heading",
     "level": 3,
     "metadata": {},
     "source": [
      "Downloading the data"
     ]
    },
    {
     "cell_type": "markdown",
     "metadata": {},
     "source": [
      "This is not necessary - a downloaded version is provided in the `data/json` directory.\n",
      "\n",
      "Data was downloaded from `http://race-capture.com:8081/event/5328c5529da60f8962000001/device/52a36c6c0a5a2b979c00000b/lap/<lap_number>`. \n",
      "\n",
      "The data was chosen for two reasons:\n",
      "\n",
      "- Data is in a non-standard JSON-like format\n",
      "- Data is \"imperfect\" in that there are issues with multiple sensors recording at different frequencies and missing data."
     ]
    },
    {
     "cell_type": "heading",
     "level": 2,
     "metadata": {},
     "source": [
      "Loading Data"
     ]
    },
    {
     "cell_type": "heading",
     "level": 3,
     "metadata": {},
     "source": [
      "Using the read_* methods from Pandas"
     ]
    },
    {
     "cell_type": "markdown",
     "metadata": {},
     "source": [
      "Pandas has a lot of methods in `pandas.io`\n",
      "\n",
      "- Can use CSV, JSON, HTML, Excel, HDF, even SQL\n",
      "- You can even make a DataFrame from Django QuerySets!\n",
      "\n",
      "We have JSON data, so we'd use `pandas.read_json()`\n"
     ]
    },
    {
     "cell_type": "code",
     "collapsed": true,
     "input": [
      "import sys, os\n",
      "import pandas as pd\n",
      "import zipfile\n",
      "\n",
      "def load_json():\n",
      "    with zipfile.ZipFile('data/json/json.zip', 'r', zipfile.ZIP_DEFLATED) as data_zip:\n",
      "        file_list = (fname for fname in data_zip.namelist() if os.path.splitext(fname)[1].lower()=='.json')\n",
      "        data = []\n",
      "        for json_file in file_list:\n",
      "            df = pd.read_json(data_zip.read(json_file))\n",
      "            data_df.append(df)\n",
      "        \n",
      "        data_df = pd.DataFrame(data)\n",
      "\n",
      "load_json()"
     ],
     "language": "python",
     "metadata": {},
     "outputs": []
    },
    {
     "cell_type": "heading",
     "level": 3,
     "metadata": {},
     "source": [
      "Didn't work, why? "
     ]
    },
    {
     "cell_type": "markdown",
     "metadata": {},
     "source": [
      "Let's take a look at one of these files:\n",
      "\n",
      "    {\"eventDeviceId\":\"532db3f29da60f7fb800001d\",\"timestamp\":{\"$date\":\"2014-03-22T17:28:28.144Z\"},\"values\":[{\"name\":\"Position\",\"latitude\":38.161358,\"longitude\":-122.454376},{\"name\":\"Latency\",\"value\":5941},{\"name\":\"OilPress\",\"value\":37.49},{\"name\":\"FuelPress\",\"value\":48.94},{\"name\":\"Coolant\",\"value\":184.28},{\"name\":\"Battery\",\"value\":13.71},{\"name\":\"AccelX\",\"value\":-0.074},{\"name\":\"AccelY\",\"value\":-0.017},{\"name\":\"AccelZ\",\"value\":1.013},{\"name\":\"Yaw\",\"value\":0},{\"name\":\"Speed\",\"value\":19.83},{\"name\":\"Time\",\"value\":172822.203},{\"name\":\"LapCount\",\"value\":1},{\"name\":\"LapTime\",\"value\":6.105},{\"name\":\"Distance\",\"value\":0.001}],\"tick\":8758}\n",
      "    {\"eventDeviceId\":\"532db3f29da60f7fb800001d\",\"timestamp\":{\"$date\":\"2014-03-22T17:28:28.144Z\"},\"values\":[{\"name\":\"Position\",\"latitude\":38.161362,\"longitude\":-122.454391},{\"name\":\"Latency\",\"value\":5848},{\"name\":\"AccelX\",\"value\":-0.053},{\"name\":\"AccelY\",\"value\":-0.022},{\"name\":\"AccelZ\",\"value\":0.994},{\"name\":\"Yaw\",\"value\":0},{\"name\":\"Speed\",\"value\":19.64},{\"name\":\"Time\",\"value\":172822.297},{\"name\":\"Distance\",\"value\":0.002}],\"tick\":8759}\n",
      "    ...\n",
      "    \n",
      "- Invalid JSON - Just individual objects, not in an array (not enclosed in [])\n",
      "- No commas between objects\n",
      "- So we edit code to add these things"
     ]
    },
    {
     "cell_type": "code",
     "collapsed": false,
     "input": [
      "import sys, os\n",
      "import pandas as pd\n",
      "import zipfile\n",
      "import re\n",
      "\n",
      "def load_json():\n",
      "    with zipfile.ZipFile('data/json/json.zip', 'r', zipfile.ZIP_DEFLATED) as data_zip:\n",
      "        file_list = (fname for fname in data_zip.namelist() if os.path.splitext(fname)[1].lower()=='.json')\n",
      "        data = []\n",
      "        for json_file in file_list:\n",
      "            json_data = data_zip.read(json_file)                \n",
      "            json_data = re.sub(r'}[^,\\]]', '},', json_data)\n",
      "            json_data = '[' + json_data + ']'\n",
      "            df = pd.read_json(json_data)\n",
      "            data_df.append(df)\n",
      "       \n",
      "        data_df = pd.DataFrame(data)\n",
      "\n",
      "load_json()"
     ],
     "language": "python",
     "metadata": {},
     "outputs": []
    },
    {
     "cell_type": "heading",
     "level": 3,
     "metadata": {},
     "source": [
      "Still doesn't work?!"
     ]
    },
    {
     "cell_type": "markdown",
     "metadata": {},
     "source": [
      "- Unhelpful error message :(\n",
      "- Go through pandas source code to find error?\n",
      "- Or, cheat and use a JSON validator - http://jsonlint.com"
     ]
    },
    {
     "cell_type": "code",
     "collapsed": false,
     "input": [
      "import zipfile, re\n",
      "\n",
      "with zipfile.ZipFile('data/json/json.zip', 'r', zipfile.ZIP_DEFLATED) as data_zip:\n",
      "    json_file = list(fname for fname in data_zip.namelist() if os.path.splitext(fname)[1].lower()=='.json')[0]\n",
      "    json_data = data_zip.read(json_file)                \n",
      "    json_data = re.sub(r'}[^,\\]]', '},', json_data)\n",
      "    json_data = '[' + json_data.strip().rstrip(',') + ']'    \n",
      "    with open('json_validate.txt', 'w') as f:\n",
      "        f.write(json_data)\n"
     ],
     "language": "python",
     "metadata": {},
     "outputs": [],
     "prompt_number": 18
    },
    {
     "cell_type": "markdown",
     "metadata": {},
     "source": [
      "We have a trailing comma!"
     ]
    },
    {
     "cell_type": "code",
     "collapsed": false,
     "input": [
      "import sys, os\n",
      "import pandas as pd\n",
      "import zipfile\n",
      "import re\n",
      "\n",
      "def load_json():\n",
      "    with zipfile.ZipFile('data/json/json.zip', 'r', zipfile.ZIP_DEFLATED) as data_zip:\n",
      "        file_list = (fname for fname in data_zip.namelist() if os.path.splitext(fname)[1].lower()=='.json')\n",
      "        data = []\n",
      "        for json_file in file_list:\n",
      "            json_data = data_zip.read(json_file)                \n",
      "            json_data = re.sub(r'}[^,\\]]', '},', json_data)\n",
      "            json_data = '[' + json_data.rstrip(',') + ']'\n",
      "            df = pd.read_json(json_data)\n",
      "            data.append(df)\n",
      "       \n",
      "        data_df = pd.DataFrame(data_df)\n",
      "\n",
      "load_json()"
     ],
     "language": "python",
     "metadata": {},
     "outputs": []
    },
    {
     "cell_type": "heading",
     "level": 3,
     "metadata": {},
     "source": [
      "Screw it, let's just write our own parser"
     ]
    },
    {
     "cell_type": "code",
     "collapsed": false,
     "input": [
      "import sys, os\n",
      "import pandas as pd\n",
      "import zipfile\n",
      "import re\n",
      "import json\n",
      "\n",
      "def load_json():\n",
      "    with zipfile.ZipFile('data/json/json.zip', 'r', zipfile.ZIP_DEFLATED) as data_zip:\n",
      "        file_list = (fname for fname in data_zip.namelist() if os.path.splitext(fname)[1].lower()=='.json')\n",
      "        data = []\n",
      "        for json_file in file_list:\n",
      "            with data_zip.open(json_file) as jf:\n",
      "                json_data = [json.loads(line) for line in jf]\n",
      "                data.extend(json_data)\n",
      "       \n",
      "    data_df = pd.DataFrame(data)\n",
      "    return data_df\n",
      "        \n",
      "\n",
      "df = load_json()\n",
      "print df"
     ],
     "language": "python",
     "metadata": {},
     "outputs": []
    },
    {
     "cell_type": "heading",
     "level": 3,
     "metadata": {},
     "source": [
      "Close, but not quite!"
     ]
    },
    {
     "cell_type": "markdown",
     "metadata": {},
     "source": [
      "- Some data has been extracted into columns correctly, but nested arrays have just been extracted as text. \n",
      "- So, we have to parse the nested arrays correctly\n",
      "- These kinds of bugs are why you attempt to use library functions first!!\n",
      "- Take a close look at the data files again"
     ]
    },
    {
     "cell_type": "code",
     "collapsed": false,
     "input": [
      "import sys, os\n",
      "import pandas as pd\n",
      "import zipfile\n",
      "import re\n",
      "import json\n",
      "\n",
      "def load_json():\n",
      "    with zipfile.ZipFile('data/json/json.zip', 'r', zipfile.ZIP_DEFLATED) as data_zip:\n",
      "        file_list = (fname for fname in data_zip.namelist() if os.path.splitext(fname)[1].lower()=='.json')\n",
      "        data = []\n",
      "        for json_file in file_list:\n",
      "            with data_zip.open(json_file) as jf:\n",
      "                lap_number = int(os.path.splitext(os.path.split(json_file)[-1])[0][4:])               \n",
      "                for line in jf:\n",
      "                    line = json.loads(line)                    \n",
      "                    if line['values']:                        \n",
      "                        line_values = {d['name']: d['value'] for d in line['values'] if d['name'] not in ('Position', 'LapCount')}\n",
      "                        line_values['lap_number'] = lap_number\n",
      "                        try:\n",
      "                            line_values['longitude'],  line_values['latitude'] = [(d['longitude'], d['latitude']) \n",
      "                                    for d in line['values'] if d['name'] == 'Position'][0]\n",
      "                        except IndexError:\n",
      "                            pass\n",
      "                        \n",
      "                        try:\n",
      "                            line_values['tick'] = line['tick']\n",
      "                        except KeyError:\n",
      "                            line_values['tick'] = float('nan')                        \n",
      "                            \n",
      "                    data.append(line_values)\n",
      "       \n",
      "    data_df = pd.DataFrame(data)\n",
      "    return data_df\n",
      "        \n",
      "\n",
      "df = load_json()\n",
      "df.to_csv('data/csv/data.csv')\n",
      "print 'Done'"
     ],
     "language": "python",
     "metadata": {},
     "outputs": [],
     "prompt_number": 46
    },
    {
     "cell_type": "heading",
     "level": 2,
     "metadata": {},
     "source": [
      "Fun with missing data"
     ]
    },
    {
     "cell_type": "heading",
     "level": 3,
     "metadata": {},
     "source": [
      "Holy #@$! that's a lot of NaNs!"
     ]
    },
    {
     "cell_type": "code",
     "collapsed": false,
     "input": [
      "import pandas as pd\n",
      "\n",
      "df = pd.read_csv('data/csv/data.csv')\n",
      "print df"
     ],
     "language": "python",
     "metadata": {},
     "outputs": [
      {
       "output_type": "stream",
       "stream": "stdout",
       "text": [
        "        Unnamed: 0  AccelX  AccelY  AccelZ  Battery  Coolant  Distance  \\\n",
        "0                0  -0.074  -0.017   1.013    13.71   184.28     0.001   \n",
        "1                1  -0.053  -0.022   0.994      NaN      NaN     0.002   \n",
        "2                2  -0.023  -0.031   0.979      NaN      NaN     0.002   \n",
        "3                3  -0.027  -0.053   1.028      NaN      NaN     0.003   \n",
        "4                4  -0.023  -0.039   1.049      NaN      NaN     0.003   \n",
        "5                5  -0.018  -0.028   1.021      NaN      NaN     0.004   \n",
        "6                6  -0.012  -0.026   0.995      NaN      NaN     0.004   \n",
        "7                7  -0.004  -0.028   0.972      NaN      NaN     0.005   \n",
        "8                8  -0.018  -0.020   0.989      NaN      NaN     0.006   \n",
        "9                9  -0.020  -0.018   0.966      NaN      NaN     0.006   \n",
        "10              10  -0.026  -0.006   0.989    13.77   184.59     0.007   \n",
        "11              11  -0.010   0.010   1.007      NaN      NaN     0.008   \n",
        "12              12  -0.007   0.044   1.038      NaN      NaN     0.009   \n",
        "13              13   0.005   0.028   1.090      NaN      NaN     0.009   \n",
        "14              14   0.002   0.012   1.171      NaN      NaN     0.010   \n",
        "15              15   0.000   0.033   1.173      NaN      NaN     0.010   \n",
        "16              16  -0.007   0.046   1.182      NaN      NaN     0.011   \n",
        "17              17   0.002   0.055   1.131      NaN      NaN     0.012   \n",
        "18              18  -0.002   0.046   1.090      NaN      NaN     0.012   \n",
        "19              19   0.004   0.021   1.061      NaN      NaN     0.013   \n",
        "20              20   0.021   0.029   1.051    13.73   184.59     0.013   \n",
        "21              21   0.032   0.018   0.995      NaN      NaN     0.014   \n",
        "22              22   0.009  -0.006   0.954      NaN      NaN     0.014   \n",
        "23              23   0.013   0.004   1.021      NaN      NaN     0.015   \n",
        "24              24   0.016  -0.009   0.973      NaN      NaN     0.016   \n",
        "25              25   0.021  -0.010   0.934      NaN      NaN     0.016   \n",
        "26              26   0.015   0.004   0.916      NaN      NaN     0.017   \n",
        "27              27   0.024   0.006   0.951      NaN      NaN     0.017   \n",
        "28              28   0.026   0.005   1.059      NaN      NaN     0.018   \n",
        "29              29   0.028   0.017   1.020      NaN      NaN     0.018   \n",
        "...            ...     ...     ...     ...      ...      ...       ...   \n",
        "414748      414748  -0.167   0.281   0.717      NaN      NaN     2.274   \n",
        "414749      414749  -0.151   0.321   0.562    13.39   167.01     2.276   \n",
        "414750      414750  -0.172   0.242   0.614      NaN      NaN     2.278   \n",
        "414751      414751  -0.123   0.209   0.821      NaN      NaN     2.280   \n",
        "414752      414752  -0.005   0.144   0.774      NaN      NaN     2.282   \n",
        "414753      414753   0.053   0.074   0.858      NaN      NaN     2.284   \n",
        "414754      414754   0.081   0.085   1.043      NaN      NaN     2.285   \n",
        "414755      414755   0.153   0.057   1.090      NaN      NaN     2.287   \n",
        "414756      414756   0.198   0.061   1.176      NaN      NaN     2.289   \n",
        "414757      414757   0.208   0.045   1.013      NaN      NaN     2.291   \n",
        "414758      414758   0.205   0.024   1.150      NaN      NaN     2.293   \n",
        "414759      414759   0.181   0.123   0.866    13.36   165.49     2.295   \n",
        "414760      414760   0.136   0.138   1.156      NaN      NaN     2.297   \n",
        "414761      414761   0.137   0.137   1.349      NaN      NaN     2.299   \n",
        "414762      414762   0.156   0.137   1.215      NaN      NaN     2.301   \n",
        "414763      414763   0.110   0.103   0.916      NaN      NaN     2.303   \n",
        "414764      414764   0.195   0.055   0.926      NaN      NaN     2.305   \n",
        "414765      414765   0.193   0.105   0.966      NaN      NaN     2.307   \n",
        "414766      414766   0.197   0.216   1.062      NaN      NaN     2.309   \n",
        "414767      414767   0.158   0.223   0.828      NaN      NaN     2.311   \n",
        "414768      414768   0.125   0.250   0.513      NaN      NaN     2.312   \n",
        "414769      414769   0.123   0.192   0.753    13.32   164.89     2.314   \n",
        "414770      414770   0.156   0.159   0.680      NaN      NaN     2.316   \n",
        "414771      414771   0.198   0.072   0.734      NaN      NaN     2.319   \n",
        "414772      414772   0.107   0.045   1.020      NaN      NaN     2.320   \n",
        "414773      414773   0.161  -0.039   0.767      NaN      NaN     2.322   \n",
        "414774      414774   0.175   0.040   0.585      NaN      NaN     0.000   \n",
        "414775      414775   0.153   0.053   0.758      NaN      NaN     0.002   \n",
        "414776      414776   0.147   0.089   0.658      NaN      NaN     0.004   \n",
        "414777      414777   0.166   0.034   0.698      NaN      NaN     0.006   \n",
        "\n",
        "        FuelPress  LapTime  Latency  OilPress  RPM  Speed        Time    Yaw  \\\n",
        "0           48.94    6.105     5941     37.49  NaN  19.83  172822.203  0.000   \n",
        "1             NaN      NaN     5848       NaN  NaN  19.64  172822.297  0.000   \n",
        "2             NaN      NaN     5743     36.66  NaN  19.65  172822.406  0.000   \n",
        "3             NaN      NaN     5650       NaN  NaN  19.62  172822.500  0.000   \n",
        "4             NaN      NaN     5558     36.66  NaN  19.58  172822.594  0.000   \n",
        "5             NaN      NaN     6079       NaN  NaN  19.55  172822.703  0.213   \n",
        "6             NaN      NaN     5987     36.04  NaN  19.56  172822.797  0.213   \n",
        "7             NaN      NaN     5878       NaN  NaN  19.54  172822.906  0.213   \n",
        "8             NaN      NaN     5783     36.04  NaN  19.54  172823.000  0.426   \n",
        "9             NaN      NaN     5689       NaN  NaN  19.55  172823.094  0.426   \n",
        "10          49.24    6.105     5580     35.84  NaN  19.53  172823.203  0.426   \n",
        "11            NaN      NaN     5495       NaN  NaN  19.54  172823.297  0.426   \n",
        "12            NaN      NaN     5387     36.46  NaN  19.54  172823.406  0.000   \n",
        "13            NaN      NaN     5294       NaN  NaN  19.54  172823.500  0.213   \n",
        "14            NaN      NaN     5823     36.25  NaN  19.55  172823.594  0.213   \n",
        "15            NaN      NaN     5714       NaN  NaN  19.56  172823.703  0.213   \n",
        "16            NaN      NaN     5623     36.25  NaN  19.55  172823.797  0.426   \n",
        "17            NaN      NaN     5514       NaN  NaN  19.57  172823.906  0.640   \n",
        "18            NaN      NaN     5422     36.25  NaN  19.58  172824.000  0.213   \n",
        "19            NaN      NaN     5328       NaN  NaN  19.59  172824.094  0.213   \n",
        "20          48.94    6.105     5219     36.25  NaN  19.59  172824.203  0.213   \n",
        "21            NaN      NaN     5126       NaN  NaN  19.62  172824.297  0.213   \n",
        "22            NaN      NaN     5019     36.66  NaN  19.62  172824.406  0.213   \n",
        "23            NaN      NaN     4925       NaN  NaN  19.63  172824.500  0.213   \n",
        "24            NaN      NaN     5463     36.46  NaN  19.67  172824.594  0.000   \n",
        "25            NaN      NaN     5358       NaN  NaN  19.68  172824.703  0.000   \n",
        "26            NaN      NaN     5267     35.84  NaN  19.72  172824.797  0.000   \n",
        "27            NaN      NaN     5160       NaN  NaN  19.96  172824.906 -0.213   \n",
        "28            NaN      NaN     5066     36.66  NaN  19.88  172825.000  0.000   \n",
        "29            NaN      NaN     4975       NaN  NaN  19.89  172825.094  0.000   \n",
        "...           ...      ...      ...       ...  ...    ...         ...    ...   \n",
        "414748        NaN      NaN     1478       NaN  NaN  66.47    3334.300 -3.625   \n",
        "414749      47.43    2.177     1380     37.29  NaN  66.43    3334.400 -3.412   \n",
        "414750        NaN      NaN     1281       NaN  NaN  66.43    3334.500 -3.412   \n",
        "414751        NaN      NaN     1184     37.08  NaN  65.90    3334.600 -2.985   \n",
        "414752        NaN      NaN     2097       NaN  NaN  65.90    3334.700 -2.772   \n",
        "414753        NaN      NaN     1997     34.80  NaN  65.64    3334.800 -2.772   \n",
        "414754        NaN      NaN     1899       NaN  NaN  65.59    3334.900 -2.559   \n",
        "414755        NaN      NaN     1801     31.49  NaN  65.62    3335.000 -2.345   \n",
        "414756        NaN      NaN     1702       NaN  NaN  66.19    3335.100 -2.345   \n",
        "414757        NaN      NaN     1602     29.83  NaN  66.73    3335.200 -2.345   \n",
        "414758        NaN      NaN     1501       NaN  NaN  67.28    3335.300 -2.345   \n",
        "414759      58.00    2.177     1402     29.83  NaN  67.49    3335.400 -2.345   \n",
        "414760        NaN      NaN     1302       NaN  NaN  67.92    3335.500 -1.706   \n",
        "414761        NaN      NaN     1210     30.66  NaN  68.27    3335.600 -1.919   \n",
        "414762        NaN      NaN     1739       NaN  NaN  68.67    3335.700 -1.706   \n",
        "414763        NaN      NaN     1638     30.04  NaN  69.03    3335.800 -1.493   \n",
        "414764        NaN      NaN     1539       NaN  NaN  69.36    3335.900 -1.279   \n",
        "414765        NaN      NaN     1439     30.04  NaN  69.75    3336.000 -1.279   \n",
        "414766        NaN      NaN     1340       NaN  NaN  70.10    3336.100 -0.853   \n",
        "414767        NaN      NaN     1240     30.66  NaN  70.61    3336.200 -0.853   \n",
        "414768        NaN      NaN     1139       NaN  NaN  70.92    3336.300 -0.853   \n",
        "414769      56.49    2.177     1039     31.49  NaN  71.20    3336.400 -0.640   \n",
        "414770        NaN      NaN      940       NaN  NaN  71.66    3336.500 -0.213   \n",
        "414771        NaN      NaN      841     31.49  NaN  71.94    3336.600  0.000   \n",
        "414772        NaN      NaN     1277       NaN  NaN  72.38    3336.700  0.213   \n",
        "414773        NaN      NaN     1176     32.11  NaN  72.73    3336.800  0.000   \n",
        "414774        NaN      NaN     1076       NaN  NaN  73.20    3336.900  0.213   \n",
        "414775        NaN      NaN      976     31.49  NaN  73.56    3337.000  0.426   \n",
        "414776        NaN      NaN      883       NaN  NaN  73.95    3337.100  0.640   \n",
        "414777        NaN      NaN     1336     32.11  NaN  74.30    3337.200  0.213   \n",
        "\n",
        "        lap_number   latitude   longitude  tick  \n",
        "0                1  38.161358 -122.454376  8758  \n",
        "1                1  38.161362 -122.454391  8759  \n",
        "2                1  38.161366 -122.454399  8760  \n",
        "3                1  38.161369 -122.454407  8761  \n",
        "4                1  38.161373 -122.454414  8762  \n",
        "5                1  38.161381 -122.454422  8763  \n",
        "6                1  38.161385 -122.454430  8764  \n",
        "7                1  38.161388 -122.454437  8765  \n",
        "8                1  38.161396 -122.454445  8766  \n",
        "9                1  38.161400 -122.454452  8767  \n",
        "10               1  38.161404 -122.454460  8768  \n",
        "11               1  38.161411 -122.454468  8769  \n",
        "12               1  38.161415 -122.454475  8770  \n",
        "13               1  38.161419 -122.454483  8771  \n",
        "14               1  38.161427 -122.454491  8772  \n",
        "15               1  38.161430 -122.454498  8773  \n",
        "16               1  38.161434 -122.454506  8774  \n",
        "17               1  38.161442 -122.454514  8775  \n",
        "18               1  38.161446 -122.454521  8776  \n",
        "19               1  38.161449 -122.454529  8777  \n",
        "20               1  38.161453 -122.454536  8778  \n",
        "21               1  38.161461 -122.454544  8779  \n",
        "22               1  38.161465 -122.454552  8780  \n",
        "23               1  38.161468 -122.454559  8781  \n",
        "24               1  38.161476 -122.454567  8782  \n",
        "25               1  38.161480 -122.454575  8783  \n",
        "26               1  38.161484 -122.454582  8784  \n",
        "27               1  38.161491 -122.454590  8785  \n",
        "28               1  38.161495 -122.454597  8786  \n",
        "29               1  38.161499 -122.454605  8787  \n",
        "...            ...        ...         ...   ...  \n",
        "414748          99  38.160847 -122.453690  8026  \n",
        "414749          99  38.160866 -122.453712  8027  \n",
        "414750          99  38.160885 -122.453743  8028  \n",
        "414751          99  38.160900 -122.453766  8029  \n",
        "414752          99  38.160919 -122.453789  8030  \n",
        "414753          99  38.160938 -122.453812  8031  \n",
        "414754          99  38.160954 -122.453842  8032  \n",
        "414755          99  38.160973 -122.453865  8033  \n",
        "414756          99  38.160992 -122.453888  8034  \n",
        "414757          99  38.161007 -122.453918  8035  \n",
        "414758          99  38.161026 -122.453941  8036  \n",
        "414759          99  38.161041 -122.453972  8037  \n",
        "414760          99  38.161060 -122.453995  8038  \n",
        "414761          99  38.161079 -122.454025  8039  \n",
        "414762          99  38.161095 -122.454048  8040  \n",
        "414763          99  38.161114 -122.454079  8041  \n",
        "414764          99  38.161133 -122.454109  8042  \n",
        "414765          99  38.161152 -122.454132  8043  \n",
        "414766          99  38.161167 -122.454163  8044  \n",
        "414767          99  38.161186 -122.454193  8045  \n",
        "414768          99  38.161201 -122.454224  8046  \n",
        "414769          99  38.161221 -122.454247  8047  \n",
        "414770          99  38.161240 -122.454277  8048  \n",
        "414771          99  38.161259 -122.454308  8049  \n",
        "414772          99  38.161278 -122.454330  8050  \n",
        "414773          99  38.161297 -122.454361  8051  \n",
        "414774          99  38.161316 -122.454391  8052  \n",
        "414775          99  38.161335 -122.454422  8053  \n",
        "414776          99  38.161354 -122.454452  8054  \n",
        "414777          99  38.161373 -122.454483  8055  \n",
        "\n",
        "[414778 rows x 19 columns]\n"
       ]
      }
     ],
     "prompt_number": 47
    },
    {
     "cell_type": "markdown",
     "metadata": {},
     "source": [
      "- NaN means \"not a number\"\n",
      "- Basically, data is missing\n",
      "- Why?\n",
      "    - In this case, sensors are recording data at different frequencies\n",
      "    - So we don't have data from all sensors at all data points\n",
      "    - Sometimes, data are just missing \n",
      "        - Data collection failure\n",
      "        - Sensor failure\n",
      "        - Communication failure\n",
      "        \n",
      "- Always try to find out *why*. Your next steps depend on this.\n",
      "        \n",
      "- So what do we do?\n",
      "    - Interpolate the data - Great for numerical data\n",
      "    - Not good for qualitative data - **Don't interpolate qualitative data**\n",
      "        - Use `fillna()` instead"
     ]
    },
    {
     "cell_type": "heading",
     "level": 3,
     "metadata": {},
     "source": [
      "Interpolating data"
     ]
    },
    {
     "cell_type": "code",
     "collapsed": false,
     "input": [
      "import pandas as pd\n",
      "\n",
      "df = pd.read_csv('data/csv/data.csv')\n",
      "df = df.interpolate()\n",
      "print df"
     ],
     "language": "python",
     "metadata": {},
     "outputs": [
      {
       "output_type": "stream",
       "stream": "stdout",
       "text": [
        "        Unnamed: 0  AccelX  AccelY  AccelZ  Battery  Coolant  Distance  \\\n",
        "0                0  -0.074  -0.017   1.013   13.710  184.280     0.001   \n",
        "1                1  -0.053  -0.022   0.994   13.716  184.311     0.002   \n",
        "2                2  -0.023  -0.031   0.979   13.722  184.342     0.002   \n",
        "3                3  -0.027  -0.053   1.028   13.728  184.373     0.003   \n",
        "4                4  -0.023  -0.039   1.049   13.734  184.404     0.003   \n",
        "5                5  -0.018  -0.028   1.021   13.740  184.435     0.004   \n",
        "6                6  -0.012  -0.026   0.995   13.746  184.466     0.004   \n",
        "7                7  -0.004  -0.028   0.972   13.752  184.497     0.005   \n",
        "8                8  -0.018  -0.020   0.989   13.758  184.528     0.006   \n",
        "9                9  -0.020  -0.018   0.966   13.764  184.559     0.006   \n",
        "10              10  -0.026  -0.006   0.989   13.770  184.590     0.007   \n",
        "11              11  -0.010   0.010   1.007   13.766  184.590     0.008   \n",
        "12              12  -0.007   0.044   1.038   13.762  184.590     0.009   \n",
        "13              13   0.005   0.028   1.090   13.758  184.590     0.009   \n",
        "14              14   0.002   0.012   1.171   13.754  184.590     0.010   \n",
        "15              15   0.000   0.033   1.173   13.750  184.590     0.010   \n",
        "16              16  -0.007   0.046   1.182   13.746  184.590     0.011   \n",
        "17              17   0.002   0.055   1.131   13.742  184.590     0.012   \n",
        "18              18  -0.002   0.046   1.090   13.738  184.590     0.012   \n",
        "19              19   0.004   0.021   1.061   13.734  184.590     0.013   \n",
        "20              20   0.021   0.029   1.051   13.730  184.590     0.013   \n",
        "21              21   0.032   0.018   0.995   13.732  184.620     0.014   \n",
        "22              22   0.009  -0.006   0.954   13.734  184.650     0.014   \n",
        "23              23   0.013   0.004   1.021   13.736  184.680     0.015   \n",
        "24              24   0.016  -0.009   0.973   13.738  184.710     0.016   \n",
        "25              25   0.021  -0.010   0.934   13.740  184.740     0.016   \n",
        "26              26   0.015   0.004   0.916   13.742  184.770     0.017   \n",
        "27              27   0.024   0.006   0.951   13.744  184.800     0.017   \n",
        "28              28   0.026   0.005   1.059   13.746  184.830     0.018   \n",
        "29              29   0.028   0.017   1.020   13.748  184.860     0.018   \n",
        "...            ...     ...     ...     ...      ...      ...       ...   \n",
        "414748      414748  -0.167   0.281   0.717   13.387  166.858     2.274   \n",
        "414749      414749  -0.151   0.321   0.562   13.390  167.010     2.276   \n",
        "414750      414750  -0.172   0.242   0.614   13.387  166.858     2.278   \n",
        "414751      414751  -0.123   0.209   0.821   13.384  166.706     2.280   \n",
        "414752      414752  -0.005   0.144   0.774   13.381  166.554     2.282   \n",
        "414753      414753   0.053   0.074   0.858   13.378  166.402     2.284   \n",
        "414754      414754   0.081   0.085   1.043   13.375  166.250     2.285   \n",
        "414755      414755   0.153   0.057   1.090   13.372  166.098     2.287   \n",
        "414756      414756   0.198   0.061   1.176   13.369  165.946     2.289   \n",
        "414757      414757   0.208   0.045   1.013   13.366  165.794     2.291   \n",
        "414758      414758   0.205   0.024   1.150   13.363  165.642     2.293   \n",
        "414759      414759   0.181   0.123   0.866   13.360  165.490     2.295   \n",
        "414760      414760   0.136   0.138   1.156   13.356  165.430     2.297   \n",
        "414761      414761   0.137   0.137   1.349   13.352  165.370     2.299   \n",
        "414762      414762   0.156   0.137   1.215   13.348  165.310     2.301   \n",
        "414763      414763   0.110   0.103   0.916   13.344  165.250     2.303   \n",
        "414764      414764   0.195   0.055   0.926   13.340  165.190     2.305   \n",
        "414765      414765   0.193   0.105   0.966   13.336  165.130     2.307   \n",
        "414766      414766   0.197   0.216   1.062   13.332  165.070     2.309   \n",
        "414767      414767   0.158   0.223   0.828   13.328  165.010     2.311   \n",
        "414768      414768   0.125   0.250   0.513   13.324  164.950     2.312   \n",
        "414769      414769   0.123   0.192   0.753   13.320  164.890     2.314   \n",
        "414770      414770   0.156   0.159   0.680   13.320  164.890     2.316   \n",
        "414771      414771   0.198   0.072   0.734   13.320  164.890     2.319   \n",
        "414772      414772   0.107   0.045   1.020   13.320  164.890     2.320   \n",
        "414773      414773   0.161  -0.039   0.767   13.320  164.890     2.322   \n",
        "414774      414774   0.175   0.040   0.585   13.320  164.890     0.000   \n",
        "414775      414775   0.153   0.053   0.758   13.320  164.890     0.002   \n",
        "414776      414776   0.147   0.089   0.658   13.320  164.890     0.004   \n",
        "414777      414777   0.166   0.034   0.698   13.320  164.890     0.006   \n",
        "\n",
        "        FuelPress  LapTime  Latency  OilPress    RPM  Speed        Time  \\\n",
        "0          48.940    6.105     5941    37.490    NaN  19.83  172822.203   \n",
        "1          48.970    6.105     5848    37.075    NaN  19.64  172822.297   \n",
        "2          49.000    6.105     5743    36.660    NaN  19.65  172822.406   \n",
        "3          49.030    6.105     5650    36.660    NaN  19.62  172822.500   \n",
        "4          49.060    6.105     5558    36.660    NaN  19.58  172822.594   \n",
        "5          49.090    6.105     6079    36.350    NaN  19.55  172822.703   \n",
        "6          49.120    6.105     5987    36.040    NaN  19.56  172822.797   \n",
        "7          49.150    6.105     5878    36.040    NaN  19.54  172822.906   \n",
        "8          49.180    6.105     5783    36.040    NaN  19.54  172823.000   \n",
        "9          49.210    6.105     5689    35.940    NaN  19.55  172823.094   \n",
        "10         49.240    6.105     5580    35.840    NaN  19.53  172823.203   \n",
        "11         49.210    6.105     5495    36.150    NaN  19.54  172823.297   \n",
        "12         49.180    6.105     5387    36.460    NaN  19.54  172823.406   \n",
        "13         49.150    6.105     5294    36.355    NaN  19.54  172823.500   \n",
        "14         49.120    6.105     5823    36.250    NaN  19.55  172823.594   \n",
        "15         49.090    6.105     5714    36.250    NaN  19.56  172823.703   \n",
        "16         49.060    6.105     5623    36.250    NaN  19.55  172823.797   \n",
        "17         49.030    6.105     5514    36.250    NaN  19.57  172823.906   \n",
        "18         49.000    6.105     5422    36.250    NaN  19.58  172824.000   \n",
        "19         48.970    6.105     5328    36.250    NaN  19.59  172824.094   \n",
        "20         48.940    6.105     5219    36.250    NaN  19.59  172824.203   \n",
        "21         48.970    6.105     5126    36.455    NaN  19.62  172824.297   \n",
        "22         49.000    6.105     5019    36.660    NaN  19.62  172824.406   \n",
        "23         49.030    6.105     4925    36.560    NaN  19.63  172824.500   \n",
        "24         49.060    6.105     5463    36.460    NaN  19.67  172824.594   \n",
        "25         49.090    6.105     5358    36.150    NaN  19.68  172824.703   \n",
        "26         49.120    6.105     5267    35.840    NaN  19.72  172824.797   \n",
        "27         49.150    6.105     5160    36.250    NaN  19.96  172824.906   \n",
        "28         49.180    6.105     5066    36.660    NaN  19.88  172825.000   \n",
        "29         49.210    6.105     4975    36.660    NaN  19.89  172825.094   \n",
        "...           ...      ...      ...       ...    ...    ...         ...   \n",
        "414748     48.336    2.177     1478    37.600 -0.028  66.47    3334.300   \n",
        "414749     47.430    2.177     1380    37.290 -0.028  66.43    3334.400   \n",
        "414750     48.487    2.177     1281    37.185 -0.028  66.43    3334.500   \n",
        "414751     49.544    2.177     1184    37.080 -0.028  65.90    3334.600   \n",
        "414752     50.601    2.177     2097    35.940 -0.028  65.90    3334.700   \n",
        "414753     51.658    2.177     1997    34.800 -0.028  65.64    3334.800   \n",
        "414754     52.715    2.177     1899    33.145 -0.028  65.59    3334.900   \n",
        "414755     53.772    2.177     1801    31.490 -0.028  65.62    3335.000   \n",
        "414756     54.829    2.177     1702    30.660 -0.028  66.19    3335.100   \n",
        "414757     55.886    2.177     1602    29.830 -0.028  66.73    3335.200   \n",
        "414758     56.943    2.177     1501    29.830 -0.028  67.28    3335.300   \n",
        "414759     58.000    2.177     1402    29.830 -0.028  67.49    3335.400   \n",
        "414760     57.849    2.177     1302    30.245 -0.028  67.92    3335.500   \n",
        "414761     57.698    2.177     1210    30.660 -0.028  68.27    3335.600   \n",
        "414762     57.547    2.177     1739    30.350 -0.028  68.67    3335.700   \n",
        "414763     57.396    2.177     1638    30.040 -0.028  69.03    3335.800   \n",
        "414764     57.245    2.177     1539    30.040 -0.028  69.36    3335.900   \n",
        "414765     57.094    2.177     1439    30.040 -0.028  69.75    3336.000   \n",
        "414766     56.943    2.177     1340    30.350 -0.028  70.10    3336.100   \n",
        "414767     56.792    2.177     1240    30.660 -0.028  70.61    3336.200   \n",
        "414768     56.641    2.177     1139    31.075 -0.028  70.92    3336.300   \n",
        "414769     56.490    2.177     1039    31.490 -0.028  71.20    3336.400   \n",
        "414770     56.490    2.177      940    31.490 -0.028  71.66    3336.500   \n",
        "414771     56.490    2.177      841    31.490 -0.028  71.94    3336.600   \n",
        "414772     56.490    2.177     1277    31.800 -0.028  72.38    3336.700   \n",
        "414773     56.490    2.177     1176    32.110 -0.028  72.73    3336.800   \n",
        "414774     56.490    2.177     1076    31.800 -0.028  73.20    3336.900   \n",
        "414775     56.490    2.177      976    31.490 -0.028  73.56    3337.000   \n",
        "414776     56.490    2.177      883    31.800 -0.028  73.95    3337.100   \n",
        "414777     56.490    2.177     1336    32.110 -0.028  74.30    3337.200   \n",
        "\n",
        "          Yaw  lap_number   latitude   longitude  tick  \n",
        "0       0.000           1  38.161358 -122.454376  8758  \n",
        "1       0.000           1  38.161362 -122.454391  8759  \n",
        "2       0.000           1  38.161366 -122.454399  8760  \n",
        "3       0.000           1  38.161369 -122.454407  8761  \n",
        "4       0.000           1  38.161373 -122.454414  8762  \n",
        "5       0.213           1  38.161381 -122.454422  8763  \n",
        "6       0.213           1  38.161385 -122.454430  8764  \n",
        "7       0.213           1  38.161388 -122.454437  8765  \n",
        "8       0.426           1  38.161396 -122.454445  8766  \n",
        "9       0.426           1  38.161400 -122.454452  8767  \n",
        "10      0.426           1  38.161404 -122.454460  8768  \n",
        "11      0.426           1  38.161411 -122.454468  8769  \n",
        "12      0.000           1  38.161415 -122.454475  8770  \n",
        "13      0.213           1  38.161419 -122.454483  8771  \n",
        "14      0.213           1  38.161427 -122.454491  8772  \n",
        "15      0.213           1  38.161430 -122.454498  8773  \n",
        "16      0.426           1  38.161434 -122.454506  8774  \n",
        "17      0.640           1  38.161442 -122.454514  8775  \n",
        "18      0.213           1  38.161446 -122.454521  8776  \n",
        "19      0.213           1  38.161449 -122.454529  8777  \n",
        "20      0.213           1  38.161453 -122.454536  8778  \n",
        "21      0.213           1  38.161461 -122.454544  8779  \n",
        "22      0.213           1  38.161465 -122.454552  8780  \n",
        "23      0.213           1  38.161468 -122.454559  8781  \n",
        "24      0.000           1  38.161476 -122.454567  8782  \n",
        "25      0.000           1  38.161480 -122.454575  8783  \n",
        "26      0.000           1  38.161484 -122.454582  8784  \n",
        "27     -0.213           1  38.161491 -122.454590  8785  \n",
        "28      0.000           1  38.161495 -122.454597  8786  \n",
        "29      0.000           1  38.161499 -122.454605  8787  \n",
        "...       ...         ...        ...         ...   ...  \n",
        "414748 -3.625          99  38.160847 -122.453690  8026  \n",
        "414749 -3.412          99  38.160866 -122.453712  8027  \n",
        "414750 -3.412          99  38.160885 -122.453743  8028  \n",
        "414751 -2.985          99  38.160900 -122.453766  8029  \n",
        "414752 -2.772          99  38.160919 -122.453789  8030  \n",
        "414753 -2.772          99  38.160938 -122.453812  8031  \n",
        "414754 -2.559          99  38.160954 -122.453842  8032  \n",
        "414755 -2.345          99  38.160973 -122.453865  8033  \n",
        "414756 -2.345          99  38.160992 -122.453888  8034  \n",
        "414757 -2.345          99  38.161007 -122.453918  8035  \n",
        "414758 -2.345          99  38.161026 -122.453941  8036  \n",
        "414759 -2.345          99  38.161041 -122.453972  8037  \n",
        "414760 -1.706          99  38.161060 -122.453995  8038  \n",
        "414761 -1.919          99  38.161079 -122.454025  8039  \n",
        "414762 -1.706          99  38.161095 -122.454048  8040  \n",
        "414763 -1.493          99  38.161114 -122.454079  8041  \n",
        "414764 -1.279          99  38.161133 -122.454109  8042  \n",
        "414765 -1.279          99  38.161152 -122.454132  8043  \n",
        "414766 -0.853          99  38.161167 -122.454163  8044  \n",
        "414767 -0.853          99  38.161186 -122.454193  8045  \n",
        "414768 -0.853          99  38.161201 -122.454224  8046  \n",
        "414769 -0.640          99  38.161221 -122.454247  8047  \n",
        "414770 -0.213          99  38.161240 -122.454277  8048  \n",
        "414771  0.000          99  38.161259 -122.454308  8049  \n",
        "414772  0.213          99  38.161278 -122.454330  8050  \n",
        "414773  0.000          99  38.161297 -122.454361  8051  \n",
        "414774  0.213          99  38.161316 -122.454391  8052  \n",
        "414775  0.426          99  38.161335 -122.454422  8053  \n",
        "414776  0.640          99  38.161354 -122.454452  8054  \n",
        "414777  0.213          99  38.161373 -122.454483  8055  \n",
        "\n",
        "[414778 rows x 19 columns]\n"
       ]
      }
     ],
     "prompt_number": 48
    },
    {
     "cell_type": "heading",
     "level": 4,
     "metadata": {},
     "source": [
      "Warning about interpolation"
     ]
    },
    {
     "cell_type": "markdown",
     "metadata": {},
     "source": [
      "- Default interpolation uses the \"index\"\n",
      "- Default interpolation method is \"linear\"\n",
      "    - Fastest, but doesn't always work - check the values!\n",
      "    - Cubic or spline interpolation is often better, but slower \n",
      "    - So how to check?\n",
      "- Be very careful with integer values. Pandas is usually sensible, but check anyway!"
     ]
    },
    {
     "cell_type": "heading",
     "level": 4,
     "metadata": {},
     "source": [
      "Checking interpolated data"
     ]
    },
    {
     "cell_type": "markdown",
     "metadata": {},
     "source": [
      "- Plot original vs interpolated\n",
      "- Look for discrepancies"
     ]
    },
    {
     "cell_type": "code",
     "collapsed": false,
     "input": [
      "import pandas as pd\n",
      "from matplotlib import pyplot as plt\n",
      "import seaborn as sns\n",
      "\n",
      "\n",
      "df = pd.read_csv('data/csv/data.csv')\n",
      "df_int = df.interpolate()\n",
      "\n",
      "def plot_lap(df1, df2, lap_number):\n",
      "    plt.plot(df1[df1['lap_number']==lap_number]['longitude'], df1[df1['lap_number']==lap_number]['latitude'], label='Raw data')\n",
      "    plt.plot(df2[df2['lap_number']==lap_number]['longitude'], df2[df2['lap_number']==lap_number]['latitude'], label='Interpolated data')\n",
      "    plt.legend(loc='best')\n",
      "    plt.title('Lap %d'%lap_number)\n",
      "    \n",
      "#show figures inside the notebook\n",
      "%matplotlib inline \n",
      "\n",
      "plot_lap(df, df_int, 1)\n",
      "plt.figure()\n",
      "plot_lap(df, df_int, 120)"
     ],
     "language": "python",
     "metadata": {},
     "outputs": [
      {
       "metadata": {},
       "output_type": "display_data",
       "png": "[encoded data removed]",
       "text": [
        "<matplotlib.figure.Figure at 0x17398710>"
       ]
      },
      {
       "metadata": {},
       "output_type": "display_data",
       "png": "[encoded data removed]",
       "text": [
        "<matplotlib.figure.Figure at 0x17398550>"
       ]
      }
     ],
     "prompt_number": 11
    },
    {
     "cell_type": "heading",
     "level": 4,
     "metadata": {},
     "source": [
      "Dealing with invalid data"
     ]
    },
    {
     "cell_type": "markdown",
     "metadata": {},
     "source": [
      "- Many data will have valid ranges\n",
      "    - For example, longitude ranges from -180 to +180 and latitude ranges from -90 to +90\n",
      "- Pandas has very powerful built-in indexing, allowing you to get rid of invalid data\n",
      "    - You can remove rows with invalid data \n",
      "        - **But** you might be throwing away _valid_ data in other columns\n",
      "        - So it's better to replace them with NaNs\n",
      "    - Be careful while setting values using indexing, always use `df.loc` or `df.ix` to ensure that the data are replaced"
     ]
    },
    {
     "cell_type": "code",
     "collapsed": false,
     "input": [
      "import pandas as pd\n",
      "from matplotlib import pyplot as plt\n",
      "import seaborn as sns\n",
      "\n",
      "df = pd.read_csv('data/csv/data.csv')\n",
      "\n",
      "invalid_lats = df.index[(df['latitude'].abs() >= 90)]\n",
      "df['latitude'].loc[invalid_lats] = float('nan')\n",
      "invalid_lons = df.index[(df['longitude'].abs() >= 180)]\n",
      "df['longitude'].loc[invalid_lons] = float('nan')\n",
      "\n",
      "\n",
      "#are all the values set to null?\n",
      "print all(df['latitude'][invalid_lats].isnull())\n",
      "print all(df['latitude'][invalid_lons].isnull())\n",
      "\n",
      "%matplotlib inline \n",
      "plt.plot(df['longitude'])\n",
      "plt.figure()\n",
      "plt.plot(df['latitude'])"
     ],
     "language": "python",
     "metadata": {},
     "outputs": [
      {
       "output_type": "stream",
       "stream": "stdout",
       "text": [
        "True\n",
        "True\n"
       ]
      },
      {
       "metadata": {},
       "output_type": "pyout",
       "prompt_number": 26,
       "text": [
        "[<matplotlib.lines.Line2D at 0x1f5852e8>]"
       ]
      },
      {
       "metadata": {},
       "output_type": "display_data",
       "png": "[encoded data removed]",
       "text": [
        "<matplotlib.figure.Figure at 0x1c14b710>"
       ]
      },
      {
       "metadata": {},
       "output_type": "display_data",
       "png": "[encoded data removed]",
       "text": [
        "<matplotlib.figure.Figure at 0x1c1196a0>"
       ]
      }
     ],
     "prompt_number": 26
    },
    {
     "cell_type": "code",
     "collapsed": false,
     "input": [
      "import pandas as pd\n",
      "from matplotlib import pyplot as plt\n",
      "import seaborn as sns\n",
      "\n",
      "df = pd.read_csv('data/csv/data.csv')\n",
      "\n",
      "invalid_lats = df.index[(df['latitude'].abs() >= 90)]\n",
      "df['latitude'].loc[invalid_lats] = float('nan')\n",
      "invalid_lons = df.index[(df['longitude'].abs() >= 180)]\n",
      "df['longitude'].loc[invalid_lons] = float('nan')\n",
      "\n",
      "lat_mean, lat_std = df['latitude'].mean(), df['latitude'].std()\n",
      "lon_mean, lon_std = df['longitude'].mean(), df['longitude'].std()\n",
      "\n",
      "print max(df['latitude'] - lat_mean)\n",
      "invalid_lats = df.index[abs(df['latitude'] - lat_mean) > lat_std*2]\n",
      "print invalid_lats\n",
      "df['latitude'].loc[invalid_lats] = float('nan')\n",
      "invalid_lons = df.index[abs(df['longitude'] - lon_mean) > lon_std*2]\n",
      "df['longitude'].loc[invalid_lons] = float('nan')\n",
      "\n",
      "%matplotlib inline \n",
      "plt.plot(df['latitude'])\n",
      "plt.figure()\n",
      "plt.plot(df['longitude'])\n",
      "\n"
     ],
     "language": "python",
     "metadata": {},
     "outputs": [
      {
       "output_type": "stream",
       "stream": "stdout",
       "text": [
        "0.00496157400131\n",
        "Int64Index([38343, 38344, 38345, 38346, 38347, 38348, 38349, 38350, 38351, 360759, 360760, 360761], dtype='int64')\n"
       ]
      },
      {
       "metadata": {},
       "output_type": "pyout",
       "prompt_number": 42,
       "text": [
        "[<matplotlib.lines.Line2D at 0x21d600f0>]"
       ]
      },
      {
       "metadata": {},
       "output_type": "display_data",
       "png": "[encoded data removed]",
       "text": [
        "<matplotlib.figure.Figure at 0x1797fa20>"
       ]
      },
      {
       "metadata": {},
       "output_type": "display_data",
       "png": "[encoded data removed]",
       "text": [
        "<matplotlib.figure.Figure at 0x21e5b240>"
       ]
      }
     ],
     "prompt_number": 42
    },
    {
     "cell_type": "code",
     "collapsed": false,
     "input": [],
     "language": "python",
     "metadata": {},
     "outputs": []
    }
   ],
   "metadata": {}
  }
 ]
}